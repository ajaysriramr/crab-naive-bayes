{
 "cells": [
  {
   "cell_type": "code",
   "execution_count": 1,
   "metadata": {},
   "outputs": [],
   "source": [
    "# Import libraries and magics\n",
    "import numpy as np\n",
    "import scipy.stats as stats\n",
    "import matplotlib.pyplot as plt\n",
    "import sklearn.metrics as mt\n",
    "from scipy.stats import multivariate_normal\n",
    "%matplotlib inline \n",
    "plt.style.use('bmh')"
   ]
  },
  {
   "cell_type": "markdown",
   "metadata": {},
   "source": [
    "## Crab Dataset Description\n",
    "\n",
    "The Crab Data Set has 200 samples and 7 features (Frontal Lip, Rear Width, Length, Width, Depth, Male and Female), describing 5 morphological measurements on 50 crabs each of two color forms and both sexes, of the species *Leptograpsus* variegatus collected at Fremantle, W. Australia.\n",
    "\n",
    "* Dataset Source: Campbell, N.A. and Mahon, R.J. (1974) A multivariate study of variation in two species of rock crab of genus *Leptograpsus*. *Australian Journal of Zoology* 22, 417–425.\n",
    "\n",
    "The data set is saved in the file \"crab.txt\": the firt column corresponds to the class label (crab species) and the other 7 columns correspond to the features.\n",
    "\n",
    "**Use the first 140 samples as your training set and the last 60 samples as your test set.**\n",
    "\n",
    "\n",
    "1. Implement the Naive Bayes classifier, under the assumption that your data likelihood model $p(x|C_j)$ is a multivariate Gaussian and the prior probabilities $p(C_j)$ are dictated by the number of samples $n_j\\in\\mathbb{R}$ that you have for each class. Build your own code to implement the classifier.\n",
    "\n",
    "2. Did you encounter any problems when implementing the probabilistic generative model? What is your solution for the problem? Explain why your solution works. (Note: There is more than one solution.)\n",
    "\n",
    "3. Report your classification results in terms of a confusion matrix in both training and test set. (You can use the function ```confusion_matrix``` from the module ```sklearn.metrics```.)"
   ]
  },
  {
   "cell_type": "code",
   "execution_count": 1,
   "metadata": {},
   "outputs": [
    {
     "ename": "NameError",
     "evalue": "name 'np' is not defined",
     "output_type": "error",
     "traceback": [
      "\u001b[0;31m---------------------------------------------------------------------------\u001b[0m",
      "\u001b[0;31mNameError\u001b[0m                                 Traceback (most recent call last)",
      "\u001b[0;32m/var/folders/sd/rhy8vt5d6pbgxs21z95g2qnw0000gn/T/ipykernel_35333/2548672256.py\u001b[0m in \u001b[0;36m<module>\u001b[0;34m\u001b[0m\n\u001b[1;32m      1\u001b[0m \u001b[0;31m## Load Data\u001b[0m\u001b[0;34m\u001b[0m\u001b[0;34m\u001b[0m\u001b[0;34m\u001b[0m\u001b[0m\n\u001b[0;32m----> 2\u001b[0;31m \u001b[0mX\u001b[0m \u001b[0;34m=\u001b[0m \u001b[0mnp\u001b[0m\u001b[0;34m.\u001b[0m\u001b[0mloadtxt\u001b[0m\u001b[0;34m(\u001b[0m\u001b[0;34m'mixture.txt'\u001b[0m\u001b[0;34m)\u001b[0m\u001b[0;34m\u001b[0m\u001b[0;34m\u001b[0m\u001b[0m\n\u001b[0m\u001b[1;32m      3\u001b[0m \u001b[0;34m\u001b[0m\u001b[0m\n\u001b[1;32m      4\u001b[0m \u001b[0;31m## Set number of components\u001b[0m\u001b[0;34m\u001b[0m\u001b[0;34m\u001b[0m\u001b[0;34m\u001b[0m\u001b[0m\n\u001b[1;32m      5\u001b[0m \u001b[0mEM_Means\u001b[0m\u001b[0;34m,\u001b[0m \u001b[0mEM_Sigs\u001b[0m\u001b[0;34m,\u001b[0m \u001b[0mEM_Ps\u001b[0m\u001b[0;34m,\u001b[0m \u001b[0mpZ_X\u001b[0m \u001b[0;34m=\u001b[0m \u001b[0mEM_GaussianMixture\u001b[0m\u001b[0;34m(\u001b[0m\u001b[0mX\u001b[0m\u001b[0;34m,\u001b[0m \u001b[0mNumComponents\u001b[0m\u001b[0;34m)\u001b[0m\u001b[0;34m\u001b[0m\u001b[0;34m\u001b[0m\u001b[0m\n",
      "\u001b[0;31mNameError\u001b[0m: name 'np' is not defined"
     ]
    }
   ],
   "source": [
    "## Load Data\n",
    "X = np.loadtxt('mixture.txt')\n",
    "\n",
    "## Set number of components\n",
    "EM_Means, EM_Sigs, EM_Ps, pZ_X = EM_GaussianMixture(X, NumComponents)\n",
    "\n",
    "## Plotting Routine\n",
    "fig = plt.figure(figsize=(15, 4))\n",
    "plt.suptitle('EM Algorithm')\n",
    "for i in range(NumComponents):\n",
    "    ax = fig.add_subplot(1,NumComponents,i+1)\n",
    "    p1 = ax.scatter(X[:,0], X[:,1], c=pZ_X[:,i]) \n",
    "    ax.set_title('Mean: '+ str(EM_Means[i,:]))\n",
    "    fig.colorbar(p1, ax=ax);"
   ]
  },
  {
   "cell_type": "code",
   "execution_count": 3,
   "metadata": {},
   "outputs": [],
   "source": [
    "D = data.to_numpy()\n",
    "\n",
    "#splitting training and test samples\n",
    "\n",
    "TR = D[0:140,:]; # training data - 140x8\n",
    "TE = D[140:,:]; # test data - 60x8\n",
    "TR0 = TR[TR[:,0] == 0] # training data - species 0 - 72x8\n",
    "TR1 = TR[TR[:,0] == 1] # training data - species 1 - 68x8\n",
    "f_tr0 = TR0[:,1:]; # training features - species 0 - 72x7\n",
    "f_tr1 = TR1[:,1:]; # training features - species 1 - 68x7\n",
    "f_te = TE[:,1:]; # test features - 60x7"
   ]
  },
  {
   "cell_type": "code",
   "execution_count": 4,
   "metadata": {},
   "outputs": [],
   "source": [
    "# Estimate parameters from training data\n",
    "\n",
    "#means\n",
    "\n",
    "mu0 = np.mean(f_tr0, axis = 0);\n",
    "mu1 = np.mean(f_tr1, axis = 0);\n",
    "\n",
    "#covariances\n",
    "\n",
    "cov0 = np.cov(f_tr0.T);\n",
    "cov1 = np.cov(f_tr1.T);\n",
    "\n",
    "#prior probabilities\n",
    "\n",
    "N  = len(TR);\n",
    "N0 = len(TR0);\n",
    "N1 = len(TR1);\n",
    "p0 = N0/N;\n",
    "p1 = N1/N;"
   ]
  },
  {
   "cell_type": "code",
   "execution_count": 5,
   "metadata": {
    "scrolled": false
   },
   "outputs": [
    {
     "ename": "LinAlgError",
     "evalue": "singular matrix",
     "output_type": "error",
     "traceback": [
      "\u001b[0;31m---------------------------------------------------------------------------\u001b[0m",
      "\u001b[0;31mLinAlgError\u001b[0m                               Traceback (most recent call last)",
      "\u001b[0;32m/var/folders/sd/rhy8vt5d6pbgxs21z95g2qnw0000gn/T/ipykernel_1220/1181603569.py\u001b[0m in \u001b[0;36m<module>\u001b[0;34m\u001b[0m\n\u001b[0;32m----> 1\u001b[0;31m \u001b[0my0\u001b[0m \u001b[0;34m=\u001b[0m \u001b[0mmultivariate_normal\u001b[0m\u001b[0;34m.\u001b[0m\u001b[0mpdf\u001b[0m\u001b[0;34m(\u001b[0m\u001b[0mf_tr0\u001b[0m\u001b[0;34m,\u001b[0m \u001b[0mmean\u001b[0m \u001b[0;34m=\u001b[0m \u001b[0mmu0\u001b[0m\u001b[0;34m,\u001b[0m \u001b[0mcov\u001b[0m \u001b[0;34m=\u001b[0m \u001b[0mcov0\u001b[0m\u001b[0;34m)\u001b[0m\u001b[0;34m\u001b[0m\u001b[0;34m\u001b[0m\u001b[0m\n\u001b[0m\u001b[1;32m      2\u001b[0m \u001b[0my1\u001b[0m \u001b[0;34m=\u001b[0m \u001b[0mmultivariate_normal\u001b[0m\u001b[0;34m.\u001b[0m\u001b[0mpdf\u001b[0m\u001b[0;34m(\u001b[0m\u001b[0mf_tr1\u001b[0m\u001b[0;34m,\u001b[0m \u001b[0mmean\u001b[0m \u001b[0;34m=\u001b[0m \u001b[0mmu1\u001b[0m\u001b[0;34m,\u001b[0m \u001b[0mcov\u001b[0m \u001b[0;34m=\u001b[0m \u001b[0mcov1\u001b[0m\u001b[0;34m)\u001b[0m\u001b[0;34m\u001b[0m\u001b[0;34m\u001b[0m\u001b[0m\n",
      "\u001b[0;32m/opt/anaconda3/lib/python3.8/site-packages/scipy/stats/_multivariate.py\u001b[0m in \u001b[0;36mpdf\u001b[0;34m(self, x, mean, cov, allow_singular)\u001b[0m\n\u001b[1;32m    514\u001b[0m         \u001b[0mdim\u001b[0m\u001b[0;34m,\u001b[0m \u001b[0mmean\u001b[0m\u001b[0;34m,\u001b[0m \u001b[0mcov\u001b[0m \u001b[0;34m=\u001b[0m \u001b[0mself\u001b[0m\u001b[0;34m.\u001b[0m\u001b[0m_process_parameters\u001b[0m\u001b[0;34m(\u001b[0m\u001b[0;32mNone\u001b[0m\u001b[0;34m,\u001b[0m \u001b[0mmean\u001b[0m\u001b[0;34m,\u001b[0m \u001b[0mcov\u001b[0m\u001b[0;34m)\u001b[0m\u001b[0;34m\u001b[0m\u001b[0;34m\u001b[0m\u001b[0m\n\u001b[1;32m    515\u001b[0m         \u001b[0mx\u001b[0m \u001b[0;34m=\u001b[0m \u001b[0mself\u001b[0m\u001b[0;34m.\u001b[0m\u001b[0m_process_quantiles\u001b[0m\u001b[0;34m(\u001b[0m\u001b[0mx\u001b[0m\u001b[0;34m,\u001b[0m \u001b[0mdim\u001b[0m\u001b[0;34m)\u001b[0m\u001b[0;34m\u001b[0m\u001b[0;34m\u001b[0m\u001b[0m\n\u001b[0;32m--> 516\u001b[0;31m         \u001b[0mpsd\u001b[0m \u001b[0;34m=\u001b[0m \u001b[0m_PSD\u001b[0m\u001b[0;34m(\u001b[0m\u001b[0mcov\u001b[0m\u001b[0;34m,\u001b[0m \u001b[0mallow_singular\u001b[0m\u001b[0;34m=\u001b[0m\u001b[0mallow_singular\u001b[0m\u001b[0;34m)\u001b[0m\u001b[0;34m\u001b[0m\u001b[0;34m\u001b[0m\u001b[0m\n\u001b[0m\u001b[1;32m    517\u001b[0m         \u001b[0mout\u001b[0m \u001b[0;34m=\u001b[0m \u001b[0mnp\u001b[0m\u001b[0;34m.\u001b[0m\u001b[0mexp\u001b[0m\u001b[0;34m(\u001b[0m\u001b[0mself\u001b[0m\u001b[0;34m.\u001b[0m\u001b[0m_logpdf\u001b[0m\u001b[0;34m(\u001b[0m\u001b[0mx\u001b[0m\u001b[0;34m,\u001b[0m \u001b[0mmean\u001b[0m\u001b[0;34m,\u001b[0m \u001b[0mpsd\u001b[0m\u001b[0;34m.\u001b[0m\u001b[0mU\u001b[0m\u001b[0;34m,\u001b[0m \u001b[0mpsd\u001b[0m\u001b[0;34m.\u001b[0m\u001b[0mlog_pdet\u001b[0m\u001b[0;34m,\u001b[0m \u001b[0mpsd\u001b[0m\u001b[0;34m.\u001b[0m\u001b[0mrank\u001b[0m\u001b[0;34m)\u001b[0m\u001b[0;34m)\u001b[0m\u001b[0;34m\u001b[0m\u001b[0;34m\u001b[0m\u001b[0m\n\u001b[1;32m    518\u001b[0m         \u001b[0;32mreturn\u001b[0m \u001b[0m_squeeze_output\u001b[0m\u001b[0;34m(\u001b[0m\u001b[0mout\u001b[0m\u001b[0;34m)\u001b[0m\u001b[0;34m\u001b[0m\u001b[0;34m\u001b[0m\u001b[0m\n",
      "\u001b[0;32m/opt/anaconda3/lib/python3.8/site-packages/scipy/stats/_multivariate.py\u001b[0m in \u001b[0;36m__init__\u001b[0;34m(self, M, cond, rcond, lower, check_finite, allow_singular)\u001b[0m\n\u001b[1;32m    163\u001b[0m         \u001b[0md\u001b[0m \u001b[0;34m=\u001b[0m \u001b[0ms\u001b[0m\u001b[0;34m[\u001b[0m\u001b[0ms\u001b[0m \u001b[0;34m>\u001b[0m \u001b[0meps\u001b[0m\u001b[0;34m]\u001b[0m\u001b[0;34m\u001b[0m\u001b[0;34m\u001b[0m\u001b[0m\n\u001b[1;32m    164\u001b[0m         \u001b[0;32mif\u001b[0m \u001b[0mlen\u001b[0m\u001b[0;34m(\u001b[0m\u001b[0md\u001b[0m\u001b[0;34m)\u001b[0m \u001b[0;34m<\u001b[0m \u001b[0mlen\u001b[0m\u001b[0;34m(\u001b[0m\u001b[0ms\u001b[0m\u001b[0;34m)\u001b[0m \u001b[0;32mand\u001b[0m \u001b[0;32mnot\u001b[0m \u001b[0mallow_singular\u001b[0m\u001b[0;34m:\u001b[0m\u001b[0;34m\u001b[0m\u001b[0;34m\u001b[0m\u001b[0m\n\u001b[0;32m--> 165\u001b[0;31m             \u001b[0;32mraise\u001b[0m \u001b[0mnp\u001b[0m\u001b[0;34m.\u001b[0m\u001b[0mlinalg\u001b[0m\u001b[0;34m.\u001b[0m\u001b[0mLinAlgError\u001b[0m\u001b[0;34m(\u001b[0m\u001b[0;34m'singular matrix'\u001b[0m\u001b[0;34m)\u001b[0m\u001b[0;34m\u001b[0m\u001b[0;34m\u001b[0m\u001b[0m\n\u001b[0m\u001b[1;32m    166\u001b[0m         \u001b[0ms_pinv\u001b[0m \u001b[0;34m=\u001b[0m \u001b[0m_pinv_1d\u001b[0m\u001b[0;34m(\u001b[0m\u001b[0ms\u001b[0m\u001b[0;34m,\u001b[0m \u001b[0meps\u001b[0m\u001b[0;34m)\u001b[0m\u001b[0;34m\u001b[0m\u001b[0;34m\u001b[0m\u001b[0m\n\u001b[1;32m    167\u001b[0m         \u001b[0mU\u001b[0m \u001b[0;34m=\u001b[0m \u001b[0mnp\u001b[0m\u001b[0;34m.\u001b[0m\u001b[0mmultiply\u001b[0m\u001b[0;34m(\u001b[0m\u001b[0mu\u001b[0m\u001b[0;34m,\u001b[0m \u001b[0mnp\u001b[0m\u001b[0;34m.\u001b[0m\u001b[0msqrt\u001b[0m\u001b[0;34m(\u001b[0m\u001b[0ms_pinv\u001b[0m\u001b[0;34m)\u001b[0m\u001b[0;34m)\u001b[0m\u001b[0;34m\u001b[0m\u001b[0;34m\u001b[0m\u001b[0m\n",
      "\u001b[0;31mLinAlgError\u001b[0m: singular matrix"
     ]
    }
   ],
   "source": [
    "y0 = multivariate_normal.pdf(f_tr0, mean = mu0, cov = cov0)\n",
    "y1 = multivariate_normal.pdf(f_tr1, mean = mu1, cov = cov1)"
   ]
  },
  {
   "cell_type": "code",
   "execution_count": 7,
   "metadata": {},
   "outputs": [
    {
     "data": {
      "text/html": [
       "<div>\n",
       "<style scoped>\n",
       "    .dataframe tbody tr th:only-of-type {\n",
       "        vertical-align: middle;\n",
       "    }\n",
       "\n",
       "    .dataframe tbody tr th {\n",
       "        vertical-align: top;\n",
       "    }\n",
       "\n",
       "    .dataframe thead th {\n",
       "        text-align: right;\n",
       "    }\n",
       "</style>\n",
       "<table border=\"1\" class=\"dataframe\">\n",
       "  <thead>\n",
       "    <tr style=\"text-align: right;\">\n",
       "      <th></th>\n",
       "      <th>Species</th>\n",
       "      <th>FrontalLip</th>\n",
       "      <th>RearWidth</th>\n",
       "      <th>Length</th>\n",
       "      <th>Width</th>\n",
       "      <th>Depth</th>\n",
       "      <th>Male</th>\n",
       "      <th>Female</th>\n",
       "    </tr>\n",
       "  </thead>\n",
       "  <tbody>\n",
       "    <tr>\n",
       "      <th>Species</th>\n",
       "      <td>1.000000e+00</td>\n",
       "      <td>-0.437966</td>\n",
       "      <td>-0.315751</td>\n",
       "      <td>-0.288333</td>\n",
       "      <td>-0.216180</td>\n",
       "      <td>-0.423716</td>\n",
       "      <td>-2.664535e-17</td>\n",
       "      <td>2.220446e-17</td>\n",
       "    </tr>\n",
       "    <tr>\n",
       "      <th>FrontalLip</th>\n",
       "      <td>-4.379655e-01</td>\n",
       "      <td>1.000000</td>\n",
       "      <td>0.906988</td>\n",
       "      <td>0.978842</td>\n",
       "      <td>0.964956</td>\n",
       "      <td>0.987627</td>\n",
       "      <td>4.330897e-02</td>\n",
       "      <td>-4.330897e-02</td>\n",
       "    </tr>\n",
       "    <tr>\n",
       "      <th>RearWidth</th>\n",
       "      <td>-3.157507e-01</td>\n",
       "      <td>0.906988</td>\n",
       "      <td>1.000000</td>\n",
       "      <td>0.892743</td>\n",
       "      <td>0.900402</td>\n",
       "      <td>0.889205</td>\n",
       "      <td>-2.915970e-01</td>\n",
       "      <td>2.915970e-01</td>\n",
       "    </tr>\n",
       "    <tr>\n",
       "      <th>Length</th>\n",
       "      <td>-2.883330e-01</td>\n",
       "      <td>0.978842</td>\n",
       "      <td>0.892743</td>\n",
       "      <td>1.000000</td>\n",
       "      <td>0.995023</td>\n",
       "      <td>0.983204</td>\n",
       "      <td>1.049828e-01</td>\n",
       "      <td>-1.049828e-01</td>\n",
       "    </tr>\n",
       "    <tr>\n",
       "      <th>Width</th>\n",
       "      <td>-2.161801e-01</td>\n",
       "      <td>0.964956</td>\n",
       "      <td>0.900402</td>\n",
       "      <td>0.995023</td>\n",
       "      <td>1.000000</td>\n",
       "      <td>0.967812</td>\n",
       "      <td>7.443726e-02</td>\n",
       "      <td>-7.443726e-02</td>\n",
       "    </tr>\n",
       "    <tr>\n",
       "      <th>Depth</th>\n",
       "      <td>-4.237165e-01</td>\n",
       "      <td>0.987627</td>\n",
       "      <td>0.889205</td>\n",
       "      <td>0.983204</td>\n",
       "      <td>0.967812</td>\n",
       "      <td>1.000000</td>\n",
       "      <td>8.971958e-02</td>\n",
       "      <td>-8.971958e-02</td>\n",
       "    </tr>\n",
       "    <tr>\n",
       "      <th>Male</th>\n",
       "      <td>-2.664535e-17</td>\n",
       "      <td>0.043309</td>\n",
       "      <td>-0.291597</td>\n",
       "      <td>0.104983</td>\n",
       "      <td>0.074437</td>\n",
       "      <td>0.089720</td>\n",
       "      <td>1.000000e+00</td>\n",
       "      <td>-1.000000e+00</td>\n",
       "    </tr>\n",
       "    <tr>\n",
       "      <th>Female</th>\n",
       "      <td>2.220446e-17</td>\n",
       "      <td>-0.043309</td>\n",
       "      <td>0.291597</td>\n",
       "      <td>-0.104983</td>\n",
       "      <td>-0.074437</td>\n",
       "      <td>-0.089720</td>\n",
       "      <td>-1.000000e+00</td>\n",
       "      <td>1.000000e+00</td>\n",
       "    </tr>\n",
       "  </tbody>\n",
       "</table>\n",
       "</div>"
      ],
      "text/plain": [
       "                 Species  FrontalLip  RearWidth    Length     Width     Depth  \\\n",
       "Species     1.000000e+00   -0.437966  -0.315751 -0.288333 -0.216180 -0.423716   \n",
       "FrontalLip -4.379655e-01    1.000000   0.906988  0.978842  0.964956  0.987627   \n",
       "RearWidth  -3.157507e-01    0.906988   1.000000  0.892743  0.900402  0.889205   \n",
       "Length     -2.883330e-01    0.978842   0.892743  1.000000  0.995023  0.983204   \n",
       "Width      -2.161801e-01    0.964956   0.900402  0.995023  1.000000  0.967812   \n",
       "Depth      -4.237165e-01    0.987627   0.889205  0.983204  0.967812  1.000000   \n",
       "Male       -2.664535e-17    0.043309  -0.291597  0.104983  0.074437  0.089720   \n",
       "Female      2.220446e-17   -0.043309   0.291597 -0.104983 -0.074437 -0.089720   \n",
       "\n",
       "                    Male        Female  \n",
       "Species    -2.664535e-17  2.220446e-17  \n",
       "FrontalLip  4.330897e-02 -4.330897e-02  \n",
       "RearWidth  -2.915970e-01  2.915970e-01  \n",
       "Length      1.049828e-01 -1.049828e-01  \n",
       "Width       7.443726e-02 -7.443726e-02  \n",
       "Depth       8.971958e-02 -8.971958e-02  \n",
       "Male        1.000000e+00 -1.000000e+00  \n",
       "Female     -1.000000e+00  1.000000e+00  "
      ]
     },
     "execution_count": 7,
     "metadata": {},
     "output_type": "execute_result"
    }
   ],
   "source": [
    "data.corr()"
   ]
  },
  {
   "cell_type": "markdown",
   "metadata": {},
   "source": [
    "**_From the above table, we can see that the Male and Female features are perfectly negatively correlated. This gives rise to linear dependancy in the matrix which in turn results in a singular matrix situation. Therefore, we can remove one of these features from the dataset as it is redundant._**"
   ]
  },
  {
   "cell_type": "code",
   "execution_count": 8,
   "metadata": {},
   "outputs": [
    {
     "data": {
      "text/html": [
       "<div>\n",
       "<style scoped>\n",
       "    .dataframe tbody tr th:only-of-type {\n",
       "        vertical-align: middle;\n",
       "    }\n",
       "\n",
       "    .dataframe tbody tr th {\n",
       "        vertical-align: top;\n",
       "    }\n",
       "\n",
       "    .dataframe thead th {\n",
       "        text-align: right;\n",
       "    }\n",
       "</style>\n",
       "<table border=\"1\" class=\"dataframe\">\n",
       "  <thead>\n",
       "    <tr style=\"text-align: right;\">\n",
       "      <th></th>\n",
       "      <th>Species</th>\n",
       "      <th>FrontalLip</th>\n",
       "      <th>RearWidth</th>\n",
       "      <th>Length</th>\n",
       "      <th>Width</th>\n",
       "      <th>Depth</th>\n",
       "      <th>Male</th>\n",
       "    </tr>\n",
       "  </thead>\n",
       "  <tbody>\n",
       "    <tr>\n",
       "      <th>0</th>\n",
       "      <td>0</td>\n",
       "      <td>20.6</td>\n",
       "      <td>14.4</td>\n",
       "      <td>42.8</td>\n",
       "      <td>46.5</td>\n",
       "      <td>19.6</td>\n",
       "      <td>1</td>\n",
       "    </tr>\n",
       "    <tr>\n",
       "      <th>1</th>\n",
       "      <td>1</td>\n",
       "      <td>13.3</td>\n",
       "      <td>11.1</td>\n",
       "      <td>27.8</td>\n",
       "      <td>32.3</td>\n",
       "      <td>11.3</td>\n",
       "      <td>1</td>\n",
       "    </tr>\n",
       "    <tr>\n",
       "      <th>2</th>\n",
       "      <td>0</td>\n",
       "      <td>16.7</td>\n",
       "      <td>14.3</td>\n",
       "      <td>32.3</td>\n",
       "      <td>37.0</td>\n",
       "      <td>14.7</td>\n",
       "      <td>0</td>\n",
       "    </tr>\n",
       "    <tr>\n",
       "      <th>3</th>\n",
       "      <td>1</td>\n",
       "      <td>9.8</td>\n",
       "      <td>8.9</td>\n",
       "      <td>20.4</td>\n",
       "      <td>23.9</td>\n",
       "      <td>8.8</td>\n",
       "      <td>0</td>\n",
       "    </tr>\n",
       "    <tr>\n",
       "      <th>4</th>\n",
       "      <td>0</td>\n",
       "      <td>15.6</td>\n",
       "      <td>14.1</td>\n",
       "      <td>31.0</td>\n",
       "      <td>34.5</td>\n",
       "      <td>13.8</td>\n",
       "      <td>0</td>\n",
       "    </tr>\n",
       "    <tr>\n",
       "      <th>...</th>\n",
       "      <td>...</td>\n",
       "      <td>...</td>\n",
       "      <td>...</td>\n",
       "      <td>...</td>\n",
       "      <td>...</td>\n",
       "      <td>...</td>\n",
       "      <td>...</td>\n",
       "    </tr>\n",
       "    <tr>\n",
       "      <th>195</th>\n",
       "      <td>1</td>\n",
       "      <td>12.3</td>\n",
       "      <td>11.0</td>\n",
       "      <td>26.8</td>\n",
       "      <td>31.5</td>\n",
       "      <td>11.4</td>\n",
       "      <td>1</td>\n",
       "    </tr>\n",
       "    <tr>\n",
       "      <th>196</th>\n",
       "      <td>1</td>\n",
       "      <td>12.0</td>\n",
       "      <td>11.1</td>\n",
       "      <td>25.4</td>\n",
       "      <td>29.2</td>\n",
       "      <td>11.0</td>\n",
       "      <td>0</td>\n",
       "    </tr>\n",
       "    <tr>\n",
       "      <th>197</th>\n",
       "      <td>1</td>\n",
       "      <td>8.8</td>\n",
       "      <td>7.7</td>\n",
       "      <td>18.1</td>\n",
       "      <td>20.8</td>\n",
       "      <td>7.4</td>\n",
       "      <td>1</td>\n",
       "    </tr>\n",
       "    <tr>\n",
       "      <th>198</th>\n",
       "      <td>1</td>\n",
       "      <td>16.2</td>\n",
       "      <td>15.2</td>\n",
       "      <td>34.5</td>\n",
       "      <td>40.1</td>\n",
       "      <td>13.9</td>\n",
       "      <td>0</td>\n",
       "    </tr>\n",
       "    <tr>\n",
       "      <th>199</th>\n",
       "      <td>0</td>\n",
       "      <td>15.6</td>\n",
       "      <td>14.0</td>\n",
       "      <td>31.6</td>\n",
       "      <td>35.3</td>\n",
       "      <td>13.8</td>\n",
       "      <td>0</td>\n",
       "    </tr>\n",
       "  </tbody>\n",
       "</table>\n",
       "<p>200 rows × 7 columns</p>\n",
       "</div>"
      ],
      "text/plain": [
       "     Species  FrontalLip  RearWidth  Length  Width  Depth  Male\n",
       "0          0        20.6       14.4    42.8   46.5   19.6     1\n",
       "1          1        13.3       11.1    27.8   32.3   11.3     1\n",
       "2          0        16.7       14.3    32.3   37.0   14.7     0\n",
       "3          1         9.8        8.9    20.4   23.9    8.8     0\n",
       "4          0        15.6       14.1    31.0   34.5   13.8     0\n",
       "..       ...         ...        ...     ...    ...    ...   ...\n",
       "195        1        12.3       11.0    26.8   31.5   11.4     1\n",
       "196        1        12.0       11.1    25.4   29.2   11.0     0\n",
       "197        1         8.8        7.7    18.1   20.8    7.4     1\n",
       "198        1        16.2       15.2    34.5   40.1   13.9     0\n",
       "199        0        15.6       14.0    31.6   35.3   13.8     0\n",
       "\n",
       "[200 rows x 7 columns]"
      ]
     },
     "execution_count": 8,
     "metadata": {},
     "output_type": "execute_result"
    }
   ],
   "source": [
    "#removing last column - Female in dataframe\n",
    "\n",
    "data = data.iloc[: , :-1]\n",
    "data"
   ]
  },
  {
   "cell_type": "code",
   "execution_count": 9,
   "metadata": {},
   "outputs": [],
   "source": [
    "D = data.to_numpy()\n",
    "\n",
    "#splitting training and test samples\n",
    "\n",
    "TR = D[0:140,:]; # training data - 140x7\n",
    "TE = D[140:,:]; # test data - 60x7\n",
    "TR0 = TR[TR[:,0] == 0] # training data - species 0 - 72x7\n",
    "TR1 = TR[TR[:,0] == 1] # training data - species 1 - 68x7\n",
    "f_tr0 = TR0[:,1:]; # training features - species 0 - 72x6\n",
    "f_tr1 = TR1[:,1:]; # training features - species 1 - 68x6\n",
    "f_tr = TR[:,1:]; # training features - 140x6\n",
    "f_te = TE[:,1:]; # test features - 60x6"
   ]
  },
  {
   "cell_type": "code",
   "execution_count": 10,
   "metadata": {
    "scrolled": false
   },
   "outputs": [
    {
     "data": {
      "text/plain": [
       "array([[72,  0],\n",
       "       [ 0, 68]])"
      ]
     },
     "execution_count": 10,
     "metadata": {},
     "output_type": "execute_result"
    }
   ],
   "source": [
    "#training\n",
    "\n",
    "# Estimating parameters from training data\n",
    "\n",
    "#means\n",
    "\n",
    "mu0 = np.mean(f_tr0, axis = 0);\n",
    "mu1 = np.mean(f_tr1, axis = 0);\n",
    "\n",
    "#covariances\n",
    "\n",
    "cov0 = np.cov(f_tr0.T);\n",
    "cov1 = np.cov(f_tr1.T);\n",
    "\n",
    "#prior probabilities\n",
    "\n",
    "N = len(TR);\n",
    "N0 = len(TR0);\n",
    "N1 = len(TR1);\n",
    "p0 = N0/N;\n",
    "p1 = N1/N;\n",
    "\n",
    "#likelihoods for each class\n",
    "\n",
    "y0_tr = multivariate_normal.pdf(f_tr, mean = mu0, cov = cov0);\n",
    "y1_tr = multivariate_normal.pdf(f_tr, mean = mu1, cov = cov1);\n",
    "\n",
    "#posteriors\n",
    "\n",
    "pos0_tr = y0_tr*p0 / (y0_tr*p0 + y1_tr*p1) ;\n",
    "pos1_tr = y1_tr*p1 / (y0_tr*p0 + y1_tr*p1) ;\n",
    "\n",
    "#decision\n",
    "\n",
    "pos_tr = [];\n",
    "for i in range(len(pos0_tr)):\n",
    "    if pos0_tr[i] > pos1_tr[i]:\n",
    "        pos_tr+=[0];\n",
    "    else:\n",
    "        pos_tr+=[1];\n",
    "        \n",
    "        \n",
    "mt.confusion_matrix(TR[:,0],pos_tr)"
   ]
  },
  {
   "cell_type": "code",
   "execution_count": 12,
   "metadata": {},
   "outputs": [
    {
     "data": {
      "text/plain": [
       "(140,)"
      ]
     },
     "execution_count": 12,
     "metadata": {},
     "output_type": "execute_result"
    }
   ],
   "source": [
    "np.shape(y0_tr)"
   ]
  },
  {
   "cell_type": "markdown",
   "metadata": {},
   "source": [
    "**The confusion matrix shows that the model has perfectly classified the training data.**"
   ]
  },
  {
   "cell_type": "code",
   "execution_count": 11,
   "metadata": {
    "scrolled": false
   },
   "outputs": [
    {
     "data": {
      "text/plain": [
       "array([[28,  0],\n",
       "       [ 0, 32]])"
      ]
     },
     "execution_count": 11,
     "metadata": {},
     "output_type": "execute_result"
    }
   ],
   "source": [
    "#testing\n",
    "\n",
    "#likelihoods for each class\n",
    "\n",
    "y0 = multivariate_normal.pdf(f_te, mean = mu0, cov = cov0)\n",
    "y1 = multivariate_normal.pdf(f_te, mean = mu1, cov = cov1)\n",
    "\n",
    "# posteriors\n",
    "\n",
    "pos0 = y0*p0 / (y0*p0 + y1*p1) \n",
    "pos1 = y1*p1 / (y0*p0 + y1*p1)\n",
    "\n",
    "#decision\n",
    "\n",
    "pos = [];\n",
    "for i in range(len(pos0)):\n",
    "    if pos0[i] > pos1[i]:\n",
    "        pos+=[0];\n",
    "    else:\n",
    "        pos+=[1];\n",
    "        \n",
    "        \n",
    "mt.confusion_matrix(TE[:,0],pos)"
   ]
  },
  {
   "cell_type": "code",
   "execution_count": 13,
   "metadata": {},
   "outputs": [
    {
     "data": {
      "text/plain": [
       "array([[28,  0],\n",
       "       [ 0, 32]])"
      ]
     },
     "execution_count": 13,
     "metadata": {},
     "output_type": "execute_result"
    }
   ],
   "source": [
    "posy = [];\n",
    "for i in range(len(y0)):\n",
    "    if y0[i] > y1[i]:\n",
    "        posy+=[0];\n",
    "    else:\n",
    "        posy+=[1];\n",
    "        \n",
    "        \n",
    "mt.confusion_matrix(TE[:,0],posy)"
   ]
  },
  {
   "cell_type": "markdown",
   "metadata": {},
   "source": [
    "**The confusion matrix shows that the model has perfectly classified the test data based on the parameters from training data.** "
   ]
  }
 ],
 "metadata": {
  "kernelspec": {
   "display_name": "Python 3 (ipykernel)",
   "language": "python",
   "name": "python3"
  },
  "language_info": {
   "codemirror_mode": {
    "name": "ipython",
    "version": 3
   },
   "file_extension": ".py",
   "mimetype": "text/x-python",
   "name": "python",
   "nbconvert_exporter": "python",
   "pygments_lexer": "ipython3",
   "version": "3.7.13"
  },
  "latex_envs": {
   "LaTeX_envs_menu_present": true,
   "autoclose": true,
   "autocomplete": true,
   "bibliofile": "biblio.bib",
   "cite_by": "apalike",
   "current_citInitial": 1,
   "eqLabelWithNumbers": true,
   "eqNumInitial": 1,
   "hotkeys": {
    "equation": "Ctrl-E",
    "itemize": "Ctrl-I"
   },
   "labels_anchors": false,
   "latex_user_defs": false,
   "report_style_numbering": false,
   "user_envs_cfg": false
  },
  "varInspector": {
   "cols": {
    "lenName": 16,
    "lenType": 16,
    "lenVar": 40
   },
   "kernels_config": {
    "python": {
     "delete_cmd_postfix": "",
     "delete_cmd_prefix": "del ",
     "library": "var_list.py",
     "varRefreshCmd": "print(var_dic_list())"
    },
    "r": {
     "delete_cmd_postfix": ") ",
     "delete_cmd_prefix": "rm(",
     "library": "var_list.r",
     "varRefreshCmd": "cat(var_dic_list()) "
    }
   },
   "types_to_exclude": [
    "module",
    "function",
    "builtin_function_or_method",
    "instance",
    "_Feature"
   ],
   "window_display": false
  }
 },
 "nbformat": 4,
 "nbformat_minor": 2
}
